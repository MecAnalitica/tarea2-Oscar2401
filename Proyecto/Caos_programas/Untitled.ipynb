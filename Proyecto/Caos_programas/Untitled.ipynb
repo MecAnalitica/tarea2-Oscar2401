{
 "cells": [
  {
   "cell_type": "markdown",
   "metadata": {},
   "source": [
    "# Fractales"
   ]
  },
  {
   "cell_type": "code",
   "execution_count": 92,
   "metadata": {},
   "outputs": [],
   "source": [
    "import matplotlib. pyplot as plt\n",
    "import numpy as np\n",
    "import math\n",
    "import random \n",
    "from pylab import imshow,show,gray\n",
    "from scipy.integrate import odeint\n",
    "from  PIL import Image\n",
    "import cmath"
   ]
  },
  {
   "cell_type": "code",
   "execution_count": 104,
   "metadata": {},
   "outputs": [],
   "source": [
    "xa = -2\n",
    "xb = 2\n",
    "ya = -1.5\n",
    "yb = 1.5\n",
    "n = 225\n",
    "\n",
    "while True:\n",
    "    cx = random.random()*(xb-xa) +xa\n",
    "    cy = random.random()*(yb-ya) +ya\n",
    "    c = complex(cx,cy)\n",
    "    z = c\n",
    "    for i in range(n):\n",
    "        z = 4*z*z + c\n",
    "        if abs(z) > 2:   \n",
    "            break\n",
    "    if i > 10 and 1 < 100:\n",
    "        break\n"
   ]
  },
  {
   "cell_type": "code",
   "execution_count": 105,
   "metadata": {},
   "outputs": [],
   "source": [
    "imgx = 512\n",
    "imgy = 512\n",
    "image = Image.new(\"RGB\", (imgx, imgy))\n",
    "\n",
    "for y in range(imgy):\n",
    "    zy = y * (yb - ya) / (imgy - 1)  + ya\n",
    "    for x in range(imgx):\n",
    "        zx = x * (xb - xa) / (imgx - 1)  + xa\n",
    "        z = complex(zx,zy)\n",
    "        for i in range(n):\n",
    "            if abs(z) > 2.0:\n",
    "                break \n",
    "            z = 4*z*z+ c\n",
    "        image.putpixel((x, y), (i % 8 * 32, i % 16 * 16, i % 32 * 8))\n",
    "\n",
    "image.save(\"juliaFr.png\", \"PNG\")"
   ]
  },
  {
   "cell_type": "code",
   "execution_count": null,
   "metadata": {},
   "outputs": [],
   "source": []
  }
 ],
 "metadata": {
  "kernelspec": {
   "display_name": "Python 3",
   "language": "python",
   "name": "python3"
  },
  "language_info": {
   "codemirror_mode": {
    "name": "ipython",
    "version": 3
   },
   "file_extension": ".py",
   "mimetype": "text/x-python",
   "name": "python",
   "nbconvert_exporter": "python",
   "pygments_lexer": "ipython3",
   "version": "3.6.6"
  }
 },
 "nbformat": 4,
 "nbformat_minor": 2
}
